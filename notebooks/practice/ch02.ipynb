{
 "cells": [
  {
   "cell_type": "code",
   "execution_count": 3,
   "metadata": {},
   "outputs": [],
   "source": [
    "from thinkbayes2 import Pmf"
   ]
  },
  {
   "cell_type": "markdown",
   "metadata": {},
   "source": [
    "## Cookie problem"
   ]
  },
  {
   "cell_type": "code",
   "execution_count": 5,
   "metadata": {},
   "outputs": [],
   "source": [
    "pmf = Pmf()\n",
    "# Prior Hypothesis\n",
    "pmf.Set(\"bowl 1\", 0.5)\n",
    "pmf.Set(\"bowl 2\", 0.5)"
   ]
  },
  {
   "cell_type": "code",
   "execution_count": 6,
   "metadata": {},
   "outputs": [],
   "source": [
    "# Multiply to likelihood\n",
    "pmf.Mult('bowl 1', 3.0/4)\n",
    "pmf.Mult('bowl 2', 0.5)"
   ]
  },
  {
   "cell_type": "code",
   "execution_count": 7,
   "metadata": {},
   "outputs": [
    {
     "data": {
      "text/plain": [
       "0.625"
      ]
     },
     "execution_count": 7,
     "metadata": {},
     "output_type": "execute_result"
    }
   ],
   "source": [
    "# Normalize\n",
    "pmf.Normalize()"
   ]
  },
  {
   "cell_type": "code",
   "execution_count": 8,
   "metadata": {},
   "outputs": [
    {
     "name": "stdout",
     "output_type": "stream",
     "text": [
      "bowl 1 0.6000000000000001\n",
      "bowl 2 0.4\n"
     ]
    }
   ],
   "source": [
    "# Print posterior probability\n",
    "pmf.Print()"
   ]
  },
  {
   "cell_type": "code",
   "execution_count": 10,
   "metadata": {},
   "outputs": [
    {
     "data": {
      "text/plain": [
       "dict_keys(['bowl 1', 'bowl 2'])"
      ]
     },
     "execution_count": 10,
     "metadata": {},
     "output_type": "execute_result"
    }
   ],
   "source": [
    "pmf.Values()"
   ]
  },
  {
   "cell_type": "code",
   "execution_count": 13,
   "metadata": {},
   "outputs": [],
   "source": [
    "class Suite(Pmf):\n",
    "    def __init__(self, hypos):\n",
    "        Pmf.__init__(self)\n",
    "        for hypo in hypos:\n",
    "            self.Set(hypo, 1)\n",
    "        self.Normalize()\n",
    "    \n",
    "    def update(self, data):\n",
    "        for hypo in self.Values():\n",
    "            likelihood = self.likelihood(data, hypo)\n",
    "            self.Mult(hypo, likelihood)\n",
    "        self.Normalize()\n",
    "    \n",
    "    def print(self):\n",
    "        self.Print()\n",
    "        "
   ]
  },
  {
   "cell_type": "code",
   "execution_count": 42,
   "metadata": {},
   "outputs": [],
   "source": [
    "class Cookie(Suite):\n",
    "    \n",
    "    mixes = {\n",
    "        'Bowl 1': {'vanilla': 0.75, 'chocolate': 0.25},\n",
    "        'Bowl 2': {'vanilla': 0.5, 'chocolate': 0.5}\n",
    "    }\n",
    "    \n",
    "    def likelihood(self, data, hypo):\n",
    "        return self.mixes[hypo][data]"
   ]
  },
  {
   "cell_type": "code",
   "execution_count": 43,
   "metadata": {},
   "outputs": [],
   "source": [
    "cookie = Cookie(('Bowl 1', 'Bowl 2'))"
   ]
  },
  {
   "cell_type": "code",
   "execution_count": 44,
   "metadata": {},
   "outputs": [],
   "source": [
    "cookie.update('vanilla')"
   ]
  },
  {
   "cell_type": "code",
   "execution_count": 45,
   "metadata": {},
   "outputs": [
    {
     "name": "stdout",
     "output_type": "stream",
     "text": [
      "Bowl 1 0.6000000000000001\n",
      "Bowl 2 0.4\n"
     ]
    }
   ],
   "source": [
    "cookie.print()"
   ]
  },
  {
   "cell_type": "code",
   "execution_count": 46,
   "metadata": {},
   "outputs": [],
   "source": [
    "class Monty(Suite):\n",
    "    \n",
    "    def likelihood(self, data, hypo):\n",
    "        if hypo == 'A':\n",
    "            return 0.5\n",
    "        elif hypo == data:\n",
    "            return 0\n",
    "        else:\n",
    "            return 1"
   ]
  },
  {
   "cell_type": "code",
   "execution_count": 50,
   "metadata": {},
   "outputs": [],
   "source": [
    "monty = Monty(('A', 'B', 'C'))"
   ]
  },
  {
   "cell_type": "code",
   "execution_count": 51,
   "metadata": {},
   "outputs": [],
   "source": [
    "monty.update('B')"
   ]
  },
  {
   "cell_type": "code",
   "execution_count": 52,
   "metadata": {},
   "outputs": [
    {
     "name": "stdout",
     "output_type": "stream",
     "text": [
      "A 0.3333333333333333\n",
      "B 0.0\n",
      "C 0.6666666666666666\n"
     ]
    }
   ],
   "source": [
    "monty.print()"
   ]
  },
  {
   "cell_type": "code",
   "execution_count": null,
   "metadata": {},
   "outputs": [],
   "source": [
    "class M_and_M(Suite):\n",
    "    mixes = {\n",
    "        'bag 1': {\n",
    "            'brown': 3.0/10,\n",
    "            'yellow': 2.0/10,\n",
    "            'red': 2.0/10,\n",
    "            'green': 1.0/10,\n",
    "            'orange': 1.0/10,\n",
    "            'tan': 1.0/10\n",
    "        },\n",
    "        'bag 2': {\n",
    "            'brown': 1.3/10,\n",
    "            'yellow': 1.4/10,\n",
    "            'red': 1.3/10,\n",
    "            'green': 2.0/10,\n",
    "            'orange': 1.6/10,\n",
    "            'blue': 2.4/10\n",
    "        }\n",
    "    }\n",
    "    \n",
    "    def likelihood(self, data, hypo):\n",
    "        "
   ]
  }
 ],
 "metadata": {
  "kernelspec": {
   "display_name": "Python 3",
   "language": "python",
   "name": "python3"
  },
  "language_info": {
   "codemirror_mode": {
    "name": "ipython",
    "version": 3
   },
   "file_extension": ".py",
   "mimetype": "text/x-python",
   "name": "python",
   "nbconvert_exporter": "python",
   "pygments_lexer": "ipython3",
   "version": "3.6.4"
  }
 },
 "nbformat": 4,
 "nbformat_minor": 2
}
